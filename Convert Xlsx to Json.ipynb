{
 "cells": [
  {
   "cell_type": "code",
   "execution_count": null,
   "metadata": {},
   "outputs": [],
   "source": [
    "import pandas as pd\n",
    "import json\n",
    "from datetime import datetime\n",
    "# read Excel file\n",
    "df = pd.read_excel('test1.xlsx')\n",
    "# get columns \n",
    "employee = df['emp_id']\n",
    "name = df['emp_name']\n",
    "code = df['scr_selcode']\n",
    "classroom = df['cls_name']\n",
    "subject = df['sub_name']\n",
    "location = df['rom_name']\n",
    "t_date = df['TEST_DATE']\n",
    "t_time = df['TEST_TIME']\n",
    "\n",
    "# rearrange columns data\n",
    "data = pd.concat([employee, name, code, classroom, subject, location, t_date, t_time], axis=1)\n",
    "data.columns = ['Employee_ID', 'Employee_Name', 'Course_Code', 'Class', 'Subject', 'Location', 'Test_Date', 'Test_Time']\n",
    "\n",
    "# Check data type\n",
    "print(type(data))"
   ]
  },
  {
   "cell_type": "code",
   "execution_count": null,
   "metadata": {},
   "outputs": [],
   "source": [
    "# Make the Course_Code columns into a string type\n",
    "data['Course_Code']=data['Course_Code'].astype(str)\n",
    "\n",
    "# Get data length\n",
    "length = len(data)\n",
    "\n",
    "# Convert the course code to four numbers\n",
    "for i in range(len(data['Course_Code'])):\n",
    "    coursecode = data['Course_Code'][i]\n",
    "    if len(coursecode)==3:\n",
    "        coursecode = '0' + coursecode\n",
    "        data['Course_Code'][i] = coursecode\n",
    "for i in range(len(data['Course_Code'])):\n",
    "    coursecode = data['Course_Code'][i]\n",
    "    if len(coursecode)==2:\n",
    "        coursecode = '00' + coursecode\n",
    "        data['Course_Code'][i] = coursecode\n",
    "for i in range(len(data['Course_Code'])):\n",
    "    coursecode = data['Course_Code'][i]\n",
    "    if len(coursecode)==1:\n",
    "        coursecode = '000' + coursecode\n",
    "        data['Course_Code'][i] = coursecode\n",
    "# Checking Course_Code \n",
    "print(data['Course_Code'])"
   ]
  },
  {
   "cell_type": "code",
   "execution_count": null,
   "metadata": {},
   "outputs": [],
   "source": [
    "# Convert Test_Time to 'Hour and Minutes' format\n",
    "for j in range(len(data['Test_Time'])):\n",
    "    ttime=data['Test_Time'][j]\n",
    "    if type(ttime)!=float:\n",
    "        timeObject=ttime.strftime(\"%H:%M\")\n",
    "    else:\n",
    "        timeObject=\" \"\n",
    "    data['Test_Time'].astype(str)\n",
    "    data['Test_Time'][j]=timeObject\n",
    "# Checking Test_Time\n",
    "print(data['Test_Time'])"
   ]
  },
  {
   "cell_type": "code",
   "execution_count": null,
   "metadata": {},
   "outputs": [],
   "source": [
    "# Convert Test_Date to 'Month and Day' format\n",
    "for k in range(len(data['Test_Date'])):\n",
    "    ddate=data['Test_Date'][k]\n",
    "    if type(ddate)!=type(pd.NaT):\n",
    "        dateObj = ddate.strftime(\"%m/%d\")\n",
    "    else:\n",
    "        dateObj=\" \"\n",
    "    data['Test_Date'].astype(str)\n",
    "    data['Test_Date'][k]=dateObj\n",
    "# Checking Test_Date\n",
    "print(data['Test_Date'])"
   ]
  },
  {
   "cell_type": "code",
   "execution_count": null,
   "metadata": {},
   "outputs": [],
   "source": [
    "# Checking Employee_Name columns if is NaN replace to space\n",
    "for l in range(len(data['Employee_Name'])):\n",
    "    teachName=data['Employee_Name'][l]\n",
    "    if type(teachName)==float:\n",
    "        nameObj=\" \"\n",
    "    elif type(teachName)==str:\n",
    "        nameObj=teachName\n",
    "    data['Employee_Name'][l]=nameObj\n",
    "# Checking Test_Date\n",
    "print(data['Employee_Name'])"
   ]
  },
  {
   "cell_type": "code",
   "execution_count": null,
   "metadata": {},
   "outputs": [],
   "source": [
    "#Before Upload to Firebase Realtime Database \n",
    "#Print out all data for checking\n",
    "print(data)"
   ]
  },
  {
   "cell_type": "code",
   "execution_count": null,
   "metadata": {},
   "outputs": [],
   "source": [
    "# import function\n",
    "import firebase_admin\n",
    "from firebase_admin import credentials\n",
    "from firebase_admin import db\n",
    "\n",
    "# Firebase Admin SDK\n",
    "# Admin SDK configuration code\n",
    "cred = credentials.Certificate(\"qa-insurance-firebase-adminsdk-rlu56-b9b0fce82a.json\")\n",
    "default_app = firebase_admin.initialize_app(cred, {\n",
    "    'databaseURL': 'https://qa-insurance.firebaseio.com/'\n",
    "})\n",
    "\n",
    "# Before Upload to Firebase RealTime Database need to delete all data.\n",
    "# Because there using push function.\n",
    "# Delete all data.\n",
    "path = \"/\"\n",
    "doc_ref = db.reference(path);\n",
    "doc_ref.delete()"
   ]
  },
  {
   "cell_type": "code",
   "execution_count": null,
   "metadata": {},
   "outputs": [],
   "source": [
    "# import function\n",
    "from firebase_admin import db\n",
    "\n",
    "# Definition Class for Upload data to Firebase by employee name.\n",
    "def setDatabase(cls, course, td, ids, location, names, subject, tt):\n",
    "    ref = db.reference('/')\n",
    "    users_ref = ref.child(names)\n",
    "    users_ref.push({\n",
    "        \"CLASS\": cls,\n",
    "        \"COURSE\": course,\n",
    "        \"DATE\": td,\n",
    "        \"ID\": ids,\n",
    "        \"LOCATION\": location,\n",
    "        \"NAME\": names,\n",
    "        \"SUBJECT\": subject,\n",
    "        \"TIME\": tt\n",
    "    })"
   ]
  },
  {
   "cell_type": "code",
   "execution_count": null,
   "metadata": {},
   "outputs": [],
   "source": [
    "# import function\n",
    "from firebase_admin import db\n",
    "\n",
    "# Definition Class for Upload data to Firebase by course code.\n",
    "def setDatabaseByCode(cls, course, td, ids, location, names, subject, tt):\n",
    "    ref = db.reference('/')\n",
    "    users_ref = ref.child(ids)\n",
    "    users_ref.push({\n",
    "        \"CLASS\": cls,\n",
    "        \"COURSE\": course,\n",
    "        \"DATE\": td,\n",
    "        \"ID\": ids,\n",
    "        \"LOCATION\": location,\n",
    "        \"NAME\": names,\n",
    "        \"SUBJECT\": subject,\n",
    "        \"TIME\": tt\n",
    "    })"
   ]
  },
  {
   "cell_type": "code",
   "execution_count": null,
   "metadata": {},
   "outputs": [],
   "source": [
    "# import function\n",
    "from firebase_admin import db\n",
    "\n",
    "# Definition Class for Upload data to Firebase by employee id.\n",
    "def setDatabaseByIDS(cls, course, td, ids, location, names, subject, tt):\n",
    "    ref = db.reference('/')\n",
    "    users_ref = ref.child(course)\n",
    "    users_ref.push({\n",
    "        \"CLASS\": cls,\n",
    "        \"COURSE\": course,\n",
    "        \"DATE\": td,\n",
    "        \"ID\": ids,\n",
    "        \"LOCATION\": location,\n",
    "        \"NAME\": names,\n",
    "        \"SUBJECT\": subject,\n",
    "        \"TIME\": tt\n",
    "    })"
   ]
  },
  {
   "cell_type": "code",
   "execution_count": null,
   "metadata": {},
   "outputs": [],
   "source": [
    "# Upload data by employee name\n",
    "for i in range(length):\n",
    "    setDatabase(str(data.Class[i]), str(data.Course_Code[i]), str(data.Test_Date[i]), str(data.Employee_ID[i]), str(data.Location[i]), str(data.Employee_Name[i]), str(data.Subject[i]), str(data.Test_Time[i]))\n",
    "\n",
    "# Upload data by course code\n",
    "for i in range(length):\n",
    "    setDatabaseByCode(str(data.Class[i]), str(data.Course_Code[i]), str(data.Test_Date[i]), str(data.Employee_ID[i]), str(data.Location[i]), str(data.Employee_Name[i]), str(data.Subject[i]), str(data.Test_Time[i]))\n",
    "\n",
    "# Upload data by employee ID\n",
    "for i in range(length):\n",
    "    setDatabaseByIDS(str(data.Class[i]), str(data.Course_Code[i]), str(data.Test_Date[i]), str(data.Employee_ID[i]), str(data.Location[i]), str(data.Employee_Name[i]), str(data.Subject[i]), str(data.Test_Time[i]))\n",
    "    "
   ]
  },
  {
   "cell_type": "code",
   "execution_count": null,
   "metadata": {},
   "outputs": [],
   "source": [
    "# import function.\n",
    "from firebase_admin import db\n",
    "import datetime\n",
    "\n",
    "# Upload version date to firebase.\n",
    "# Let user know when is the last Update\n",
    "now = datetime.datetime.now()\n",
    "dateStr = str(now.year) + '/' + str(now.month) + '/' + str(now.day)\n",
    "# print(dateStr)\n",
    "ref = db.reference('/version')\n",
    "ref.set({\n",
    "    \"0\": dateStr\n",
    "})"
   ]
  }
 ],
 "metadata": {
  "celltoolbar": "Raw Cell Format",
  "kernelspec": {
   "display_name": "Python 3",
   "language": "python",
   "name": "python3"
  },
  "language_info": {
   "codemirror_mode": {
    "name": "ipython",
    "version": 3
   },
   "file_extension": ".py",
   "mimetype": "text/x-python",
   "name": "python",
   "nbconvert_exporter": "python",
   "pygments_lexer": "ipython3",
   "version": "3.7.1"
  }
 },
 "nbformat": 4,
 "nbformat_minor": 2
}
